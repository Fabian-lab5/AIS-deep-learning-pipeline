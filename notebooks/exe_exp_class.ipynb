{
 "cells": [
  {
   "cell_type": "code",
   "execution_count": null,
   "metadata": {},
   "outputs": [],
   "source": [
    "import papermill as pm\n",
    "\n",
    "# Parameters to experiment with augmented data\n",
    "augmentation_types = [\"kmeans\", \"vae\", \"GNI\"]\n",
    "seeds = [1415, 9265, 3589, 7932, 3846, 2643, 3832, 7950, 2884, 1971]\n",
    "num_aug_values = [50000, 100000, 150000, 200000]\n",
    "\n",
    "# Baseline runs (no augmentation)\n",
    "for seed in seeds:\n",
    "    print(f\"Running baseline experiment: augmentation_type=baseline, seed={seed}\")\n",
    "    \n",
    "    pm.execute_notebook(\n",
    "        '../class_lstm_baseline.ipynb',\n",
    "        None,\n",
    "        parameters={\n",
    "            'augmentation_type': 'baseline',\n",
    "            'seed': seed,\n",
    "            'num_aug': 0,\n",
    "        }\n",
    "    )\n",
    "\n",
    "# Augmented data experiments\n",
    "for aug_type in augmentation_types: \n",
    "    for seed in seeds:\n",
    "        for num_aug in num_aug_values:\n",
    "            print(f\"Running experiment: augmentation_type={aug_type}, seed={seed}, num_aug={num_aug}\")\n",
    "\n",
    "            pm.execute_notebook(\n",
    "                '../class_lstm_baseline.ipynb',\n",
    "                None,\n",
    "                parameters={\n",
    "                    'num_aug': num_aug,\n",
    "                    'augmentation_type': aug_type,\n",
    "                    'seed': seed\n",
    "                }\n",
    "            )"
   ]
  }
 ],
 "metadata": {
  "kernelspec": {
   "display_name": "base",
   "language": "python",
   "name": "python3"
  },
  "language_info": {
   "codemirror_mode": {
    "name": "ipython",
    "version": 3
   },
   "file_extension": ".py",
   "mimetype": "text/x-python",
   "name": "python",
   "nbconvert_exporter": "python",
   "pygments_lexer": "ipython3",
   "version": "3.12.2"
  }
 },
 "nbformat": 4,
 "nbformat_minor": 2
}
